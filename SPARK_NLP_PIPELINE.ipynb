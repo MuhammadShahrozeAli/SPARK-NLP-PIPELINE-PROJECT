{
  "nbformat": 4,
  "nbformat_minor": 0,
  "metadata": {
    "colab": {
      "provenance": [],
      "toc_visible": true
    },
    "kernelspec": {
      "name": "python3",
      "display_name": "Python 3"
    },
    "language_info": {
      "name": "python"
    }
  },
  "cells": [
    {
      "cell_type": "code",
      "source": [
        "\n",
        "pip install pyspark==3.2.1"
      ],
      "metadata": {
        "colab": {
          "base_uri": "https://localhost:8080/"
        },
        "id": "HkH5V6qRkpng",
        "outputId": "7731a38d-90bb-4103-e3ab-6a56fe3e104a"
      },
      "execution_count": null,
      "outputs": [
        {
          "output_type": "stream",
          "name": "stdout",
          "text": [
            "Looking in indexes: https://pypi.org/simple, https://us-python.pkg.dev/colab-wheels/public/simple/\n",
            "Collecting pyspark==3.2.1\n",
            "  Downloading pyspark-3.2.1.tar.gz (281.4 MB)\n",
            "\u001b[K     |████████████████████████████████| 281.4 MB 38 kB/s \n",
            "\u001b[?25hCollecting py4j==0.10.9.3\n",
            "  Downloading py4j-0.10.9.3-py2.py3-none-any.whl (198 kB)\n",
            "\u001b[K     |████████████████████████████████| 198 kB 58.6 MB/s \n",
            "\u001b[?25hBuilding wheels for collected packages: pyspark\n",
            "  Building wheel for pyspark (setup.py) ... \u001b[?25l\u001b[?25hdone\n",
            "  Created wheel for pyspark: filename=pyspark-3.2.1-py2.py3-none-any.whl size=281853643 sha256=84cb1fe201501a847e5f854cd94ce277e73c860376a102a35ad29f3a92a00562\n",
            "  Stored in directory: /root/.cache/pip/wheels/58/94/83/915c9059e4b038e2d43a6058f307fe1c3e8536e5745f3b23b7\n",
            "Successfully built pyspark\n",
            "Installing collected packages: py4j, pyspark\n",
            "Successfully installed py4j-0.10.9.3 pyspark-3.2.1\n"
          ]
        }
      ]
    },
    {
      "cell_type": "code",
      "source": [
        "import sparknlp\n",
        "from sparknlp.base import *\n",
        "from sparknlp.annotator import *"
      ],
      "metadata": {
        "id": "3jje7H5mlC03"
      },
      "execution_count": null,
      "outputs": []
    },
    {
      "cell_type": "code",
      "source": [
        "spark = sparknlp.start()"
      ],
      "metadata": {
        "id": "_bdVJGpFlFwI"
      },
      "execution_count": null,
      "outputs": []
    },
    {
      "cell_type": "code",
      "source": [
        "data = spark.createDataFrame([['Peter is a good person living in Italy.Paula is also good person.She lives in London ']]).toDF('text')"
      ],
      "metadata": {
        "id": "kB3t35rLlYjh"
      },
      "execution_count": null,
      "outputs": []
    },
    {
      "cell_type": "code",
      "source": [
        "data.show(truncate=False)"
      ],
      "metadata": {
        "colab": {
          "base_uri": "https://localhost:8080/"
        },
        "id": "1VK7QxeflvES",
        "outputId": "c5687ba6-1c9d-4d75-c151-8a9131ae2b1c"
      },
      "execution_count": null,
      "outputs": [
        {
          "output_type": "stream",
          "name": "stdout",
          "text": [
            "+-------------------------------------------------------------------------------------+\n",
            "|text                                                                                 |\n",
            "+-------------------------------------------------------------------------------------+\n",
            "|Peter is a good person living in Italy.Paula is also good person.She lives in London |\n",
            "+-------------------------------------------------------------------------------------+\n",
            "\n"
          ]
        }
      ]
    },
    {
      "cell_type": "markdown",
      "source": [
        "**DocumentAssembler : Read String Column and create Annotation Columns**"
      ],
      "metadata": {
        "id": "rK8ThDb6mA7k"
      }
    },
    {
      "cell_type": "code",
      "source": [
        "#Document Assember controls cleaning up of Source text and handling of special chatacters \n",
        "# and new lines througn Cleanup Mode"
      ],
      "metadata": {
        "id": "spTuJ16jmO-R"
      },
      "execution_count": null,
      "outputs": []
    },
    {
      "cell_type": "code",
      "source": [
        "document=DocumentAssembler().setInputCol('text').setOutputCol('document').setCleanupMode('shrink')"
      ],
      "metadata": {
        "id": "ScAhz5bnmy2F"
      },
      "execution_count": null,
      "outputs": []
    },
    {
      "cell_type": "code",
      "source": [
        "# SentenceDetector: Splits Sentences in meaningful way\n",
        "#Sentence Detector explode sentences improves parallelism in large text concentration\n",
        "\n",
        "sentence= SentenceDetector().setInputCols('document').setOutputCol('sentence')"
      ],
      "metadata": {
        "id": "YV0NF9mVnRbu"
      },
      "execution_count": null,
      "outputs": []
    },
    {
      "cell_type": "code",
      "source": [
        "sentence.setExplodeSentences(True)"
      ],
      "metadata": {
        "colab": {
          "base_uri": "https://localhost:8080/"
        },
        "id": "MSgX9yFeovLD",
        "outputId": "953d734d-6316-42a1-8d7a-658937f7fb53"
      },
      "execution_count": null,
      "outputs": [
        {
          "output_type": "execute_result",
          "data": {
            "text/plain": [
              "SentenceDetector_01fcf4c256b6"
            ]
          },
          "metadata": {},
          "execution_count": 74
        }
      ]
    },
    {
      "cell_type": "markdown",
      "source": [
        "**Tokenizer**"
      ],
      "metadata": {
        "id": "nIyq6K2To7Yr"
      }
    },
    {
      "cell_type": "code",
      "source": [
        "tokenizer=Tokenizer().setInputCols('sentence').setOutputCol('token')"
      ],
      "metadata": {
        "id": "-KzjBIYFpAok"
      },
      "execution_count": null,
      "outputs": []
    },
    {
      "cell_type": "code",
      "source": [
        "tokenizer.setExceptions(['e-mail'])"
      ],
      "metadata": {
        "colab": {
          "base_uri": "https://localhost:8080/"
        },
        "id": "Wkgj_xvEpS3z",
        "outputId": "2f270eba-ad84-4c6e-e640-65172410ad2f"
      },
      "execution_count": null,
      "outputs": [
        {
          "output_type": "execute_result",
          "data": {
            "text/plain": [
              "Tokenizer_422c2c3cafbe"
            ]
          },
          "metadata": {},
          "execution_count": 76
        }
      ]
    },
    {
      "cell_type": "markdown",
      "source": [
        "**Spell Checker**"
      ],
      "metadata": {
        "id": "xq9q2-y1paE8"
      }
    },
    {
      "cell_type": "code",
      "source": [
        "checker = NorvigSweetingModel.pretrained().setInputCols(['token']).setOutputCol('checked')"
      ],
      "metadata": {
        "colab": {
          "base_uri": "https://localhost:8080/"
        },
        "id": "GXk8u4C8pdck",
        "outputId": "cef70aa4-3d96-439d-df51-a0a1799130bb"
      },
      "execution_count": null,
      "outputs": [
        {
          "output_type": "stream",
          "name": "stdout",
          "text": [
            "spellcheck_norvig download started this may take some time.\n",
            "Approximate size to download 4.2 MB\n",
            "[OK!]\n"
          ]
        }
      ]
    },
    {
      "cell_type": "markdown",
      "source": [
        "**Embedding**"
      ],
      "metadata": {
        "id": "ixQ28LBYtgy9"
      }
    },
    {
      "cell_type": "code",
      "source": [
        "embeddings = WordEmbeddingsModel.pretrained().setInputCols(['sentence','token']).setOutputCol('embeddings')"
      ],
      "metadata": {
        "colab": {
          "base_uri": "https://localhost:8080/"
        },
        "id": "-1GQTIUStld9",
        "outputId": "5089f1c9-185f-4a7b-9a32-834464699d6e"
      },
      "execution_count": null,
      "outputs": [
        {
          "output_type": "stream",
          "name": "stdout",
          "text": [
            "glove_100d download started this may take some time.\n",
            "Approximate size to download 145.3 MB\n",
            "[OK!]\n"
          ]
        }
      ]
    },
    {
      "cell_type": "markdown",
      "source": [
        "**Named Entity Recognition**"
      ],
      "metadata": {
        "id": "TEhaInrSqtR3"
      }
    },
    {
      "cell_type": "code",
      "source": [
        "ner = NerDLModel.pretrained().setInputCols(['sentence','checked','embeddings']).setOutputCol('ner')"
      ],
      "metadata": {
        "colab": {
          "base_uri": "https://localhost:8080/"
        },
        "id": "JNsuuMPmqyY3",
        "outputId": "5662f9cb-2f9d-46e0-9bd7-0d81d35aff30"
      },
      "execution_count": null,
      "outputs": [
        {
          "output_type": "stream",
          "name": "stdout",
          "text": [
            "ner_dl download started this may take some time.\n",
            "Approximate size to download 13.6 MB\n",
            "[OK!]\n"
          ]
        }
      ]
    },
    {
      "cell_type": "code",
      "source": [
        "converter = NerConverter().setInputCols(['sentence','checked','ner']).setOutputCol('chunk')"
      ],
      "metadata": {
        "id": "Eeauc_o9sHVq"
      },
      "execution_count": null,
      "outputs": []
    },
    {
      "cell_type": "markdown",
      "source": [
        "**PipeLine**"
      ],
      "metadata": {
        "id": "psk2Vc68seVj"
      }
    },
    {
      "cell_type": "code",
      "source": [
        "from pyspark.ml import Pipeline"
      ],
      "metadata": {
        "id": "u5N3Ud3Dshha"
      },
      "execution_count": null,
      "outputs": []
    },
    {
      "cell_type": "code",
      "source": [
        "pipeline=Pipeline().setStages([document,sentence,tokenizer,embeddings,checker,ner,converter])"
      ],
      "metadata": {
        "id": "O6bFKkq4sn5q"
      },
      "execution_count": null,
      "outputs": []
    },
    {
      "cell_type": "code",
      "source": [
        "model = pipeline.fit(data)"
      ],
      "metadata": {
        "id": "xZ-1UUsGs6Cg"
      },
      "execution_count": null,
      "outputs": []
    },
    {
      "cell_type": "code",
      "source": [
        "result = model.transform(data)"
      ],
      "metadata": {
        "id": "GQFgZ5wmwKmr"
      },
      "execution_count": null,
      "outputs": []
    },
    {
      "cell_type": "code",
      "source": [
        "result.show()"
      ],
      "metadata": {
        "colab": {
          "base_uri": "https://localhost:8080/"
        },
        "id": "5qilbsIBwaW5",
        "outputId": "8a69560f-11f7-4ff0-bd69-9b3bd13ca36a"
      },
      "execution_count": null,
      "outputs": [
        {
          "output_type": "stream",
          "name": "stdout",
          "text": [
            "+--------------------+--------------------+--------------------+--------------------+--------------------+--------------------+--------------------+--------------------+\n",
            "|                text|            document|            sentence|               token|          embeddings|             checked|                 ner|               chunk|\n",
            "+--------------------+--------------------+--------------------+--------------------+--------------------+--------------------+--------------------+--------------------+\n",
            "|Peter is a good p...|[{document, 0, 83...|[{document, 0, 83...|[{token, 0, 4, Pe...|[{word_embeddings...|[{token, 0, 4, Pe...|[{named_entity, 0...|[{chunk, 0, 4, Pe...|\n",
            "+--------------------+--------------------+--------------------+--------------------+--------------------+--------------------+--------------------+--------------------+\n",
            "\n"
          ]
        }
      ]
    },
    {
      "cell_type": "code",
      "source": [
        "# Analyze Pipline\n",
        "\n",
        "result.select('sentence.result').show(truncate=False)"
      ],
      "metadata": {
        "colab": {
          "base_uri": "https://localhost:8080/"
        },
        "id": "vwKz95mawo_D",
        "outputId": "de5d6858-e6b8-4f7e-dc63-284bd8f34a31"
      },
      "execution_count": null,
      "outputs": [
        {
          "output_type": "stream",
          "name": "stdout",
          "text": [
            "+--------------------------------------------------------------------------------------+\n",
            "|result                                                                                |\n",
            "+--------------------------------------------------------------------------------------+\n",
            "|[Peter is a good person living in Italy.Paula is also good person.She lives in London]|\n",
            "+--------------------------------------------------------------------------------------+\n",
            "\n"
          ]
        }
      ]
    },
    {
      "cell_type": "code",
      "source": [
        "result.select('checked.result').show(truncate=False)"
      ],
      "metadata": {
        "colab": {
          "base_uri": "https://localhost:8080/"
        },
        "id": "Zc1ea31oxBgz",
        "outputId": "394755d7-1044-42bf-de54-a859d2a7fa6d"
      },
      "execution_count": null,
      "outputs": [
        {
          "output_type": "stream",
          "name": "stdout",
          "text": [
            "+----------------------------------------------------------------------------------------------------+\n",
            "|result                                                                                              |\n",
            "+----------------------------------------------------------------------------------------------------+\n",
            "|[Peter, is, a, good, person, living, in, Italy.Paula, is, also, good, person.She, lives, in, London]|\n",
            "+----------------------------------------------------------------------------------------------------+\n",
            "\n"
          ]
        }
      ]
    },
    {
      "cell_type": "code",
      "source": [
        "result.select('ner.result').show(truncate=False)"
      ],
      "metadata": {
        "colab": {
          "base_uri": "https://localhost:8080/"
        },
        "id": "tvjnkxiNxJba",
        "outputId": "eb7b1b80-bfab-4abd-99ff-bafe4b5990b2"
      },
      "execution_count": null,
      "outputs": [
        {
          "output_type": "stream",
          "name": "stdout",
          "text": [
            "+---------------------------------------------------------+\n",
            "|result                                                   |\n",
            "+---------------------------------------------------------+\n",
            "|[B-PER, O, O, O, O, O, O, B-LOC, O, O, O, O, O, O, B-LOC]|\n",
            "+---------------------------------------------------------+\n",
            "\n"
          ]
        }
      ]
    },
    {
      "cell_type": "code",
      "source": [
        "result.select('chunk.result','chunk.begin','chunk.end').show(truncate=False)"
      ],
      "metadata": {
        "colab": {
          "base_uri": "https://localhost:8080/"
        },
        "id": "CmNB5W5lxRX8",
        "outputId": "1b570021-33bb-4504-a24c-4b198ed5517d"
      },
      "execution_count": null,
      "outputs": [
        {
          "output_type": "stream",
          "name": "stdout",
          "text": [
            "+----------------------------+-----------+-----------+\n",
            "|result                      |begin      |end        |\n",
            "+----------------------------+-----------+-----------+\n",
            "|[Peter, Italy.Paula, London]|[0, 33, 78]|[4, 43, 83]|\n",
            "+----------------------------+-----------+-----------+\n",
            "\n"
          ]
        }
      ]
    },
    {
      "cell_type": "code",
      "source": [
        "light=LightPipeline(model)"
      ],
      "metadata": {
        "id": "Y5zxMprUxn_8"
      },
      "execution_count": null,
      "outputs": []
    },
    {
      "cell_type": "code",
      "source": [
        "light.annotate('Bruno is living in Italy, and he is doing well.')"
      ],
      "metadata": {
        "colab": {
          "base_uri": "https://localhost:8080/"
        },
        "id": "PyCMmDsxx18U",
        "outputId": "053f6c10-87ff-4880-9ce3-38d334128fec"
      },
      "execution_count": null,
      "outputs": [
        {
          "output_type": "execute_result",
          "data": {
            "text/plain": [
              "{'chunk': ['Bruno', 'Italy'],\n",
              " 'checked': ['Bruno',\n",
              "  'is',\n",
              "  'living',\n",
              "  'in',\n",
              "  'Italy',\n",
              "  ',',\n",
              "  'and',\n",
              "  'he',\n",
              "  'is',\n",
              "  'doing',\n",
              "  'well',\n",
              "  '.'],\n",
              " 'document': ['Bruno is living in Italy, and he is doing well.'],\n",
              " 'token': ['Bruno',\n",
              "  'is',\n",
              "  'living',\n",
              "  'in',\n",
              "  'Italy',\n",
              "  ',',\n",
              "  'and',\n",
              "  'he',\n",
              "  'is',\n",
              "  'doing',\n",
              "  'well',\n",
              "  '.'],\n",
              " 'ner': ['B-PER', 'O', 'O', 'O', 'B-LOC', 'O', 'O', 'O', 'O', 'O', 'O', 'O'],\n",
              " 'embeddings': ['Bruno',\n",
              "  'is',\n",
              "  'living',\n",
              "  'in',\n",
              "  'Italy',\n",
              "  ',',\n",
              "  'and',\n",
              "  'he',\n",
              "  'is',\n",
              "  'doing',\n",
              "  'well',\n",
              "  '.'],\n",
              " 'sentence': ['Bruno is living in Italy, and he is doing well.']}"
            ]
          },
          "metadata": {},
          "execution_count": 94
        }
      ]
    },
    {
      "cell_type": "code",
      "source": [],
      "metadata": {
        "id": "UUBMVVVQwR2E"
      },
      "execution_count": null,
      "outputs": []
    }
  ]
}